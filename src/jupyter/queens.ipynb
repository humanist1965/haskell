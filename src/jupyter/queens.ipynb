{
 "cells": [
  {
   "cell_type": "code",
   "execution_count": 10,
   "id": "dab02849",
   "metadata": {},
   "outputs": [
    {
     "name": "stdout",
     "output_type": "stream",
     "text": [
      "Running Haskell program: Queens2.hs \n",
      "Compilation successful! /workspaces/haskell/bin/..\n",
      "Number Solutions = 1\n",
      "Queens Problem (nxn), for n = 1 (Real): 0.000051 seconds\n",
      "Number Solutions = 0\n",
      "Queens Problem (nxn), for n = 2 (Real): 0.000008 seconds\n",
      "Number Solutions = 0\n",
      "Queens Problem (nxn), for n = 3 (Real): 0.000012 seconds\n",
      "Number Solutions = 2\n",
      "Queens Problem (nxn), for n = 4 (Real): 0.000032 seconds\n",
      "Number Solutions = 10\n",
      "Queens Problem (nxn), for n = 5 (Real): 0.000104 seconds\n",
      "Number Solutions = 4\n",
      "Queens Problem (nxn), for n = 6 (Real): 0.000510 seconds\n",
      "Number Solutions = 40\n",
      "Queens Problem (nxn), for n = 7 (Real): 0.002362 seconds\n",
      "Number Solutions = 92\n",
      "Queens Problem (nxn), for n = 8 (Real): 0.003729 seconds\n",
      "Number Solutions = 352\n",
      "Queens Problem (nxn), for n = 9 (Real): 0.018508 seconds\n",
      "Number Solutions = 724\n",
      "Queens Problem (nxn), for n = 10 (Real): 0.152909 seconds\n",
      "Number Solutions = 2680\n",
      "Queens Problem (nxn), for n = 11 (Real): 0.550460 seconds\n",
      "Number Solutions = 14200\n",
      "Queens Problem (nxn), for n = 12 (Real): 3.428442 seconds\n",
      "Haskell program exited with code: 0\n"
     ]
    }
   ],
   "source": [
    "%%bash\n",
    "./run_haskell Queens2.hs\n"
   ]
  }
 ],
 "metadata": {
  "kernelspec": {
   "display_name": "Python 3",
   "language": "python",
   "name": "python3"
  },
  "language_info": {
   "codemirror_mode": {
    "name": "ipython",
    "version": 3
   },
   "file_extension": ".py",
   "mimetype": "text/x-python",
   "name": "python",
   "nbconvert_exporter": "python",
   "pygments_lexer": "ipython3",
   "version": "3.12.1"
  }
 },
 "nbformat": 4,
 "nbformat_minor": 5
}
