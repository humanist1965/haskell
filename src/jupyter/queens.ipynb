{
 "cells": [
  {
   "cell_type": "markdown",
   "id": "bbdbb1f1",
   "metadata": {},
   "source": [
    "## The Queens Chessboard Puzzle: A Programmer's Playground\n",
    "\n",
    "The classic **Queens Chessboard Puzzle** is a timeless challenge that has intrigued computer programmers for years. This problem not only tests logical thinking and problem-solving skills but also offers a fantastic opportunity to explore algorithmic design.\n",
    "\n",
    "In this interactive notebook, we'll dive into the puzzle’s complexities, exploring different approaches to solving it. Our programming language of choice will be **Haskell**, which offers unique features for efficient and elegant problem-solving.\n",
    "\n",
    "**Topics:**\n",
    "\n",
    "* What is this Queens Chessboard Puzzle?\n",
    "\n",
    "* History of the Puzzle\n",
    "\n",
    "* How Complex is the problem?\n",
    "    * Depends on how big the chessboard is\n",
    "        * standard 8x8\n",
    "        * but to make the problem more challenging for computer programmers\n",
    "            * we will try and solve for bigger board 9, 10, 11, ..., 27\n",
    "            \n",
    "\n",
    "    * Depends on whether:\n",
    "        * You want to find all solution\n",
    "        * You want to find all unique solutions\n",
    "        * You want to find a single solution\n",
    "\n",
    "\n",
    "    * NOTE: 27x27 board is the biggest that anyone has found all solutions for\n",
    "                * Quantum computing will likely be needed to go beyond this...\n",
    "\n",
    "    * Finding single solution is possible for any much larger n (n = 1000000 and beyond)\n",
    "\n",
    "\n",
    "* Data-Structure Design\n",
    "    * How do we represent the Queens nxn ChessBoard in a computer program?\n",
    "    * What data-structures do we use to represent the nxn board and the placing of n queens on this board\n",
    "\n",
    "\n",
    "* Sledge Hammer: Brute-force solutions\n",
    "\n",
    "* Sledge Hammer: Brute-force (pure brute)\n",
    "\n",
    "* Sledge Hammer: Brute-force (with row/col unique)\n",
    "\n",
    "* Optimised backtracking \n",
    "    * Need to have a permutations algorithm"
   ]
  },
  {
   "cell_type": "markdown",
   "id": "f3278e96",
   "metadata": {},
   "source": [
    "<link rel=\"stylesheet\" href=\"./styles.css\">\n",
    "<div class=\"page-spacer\"></div>\n",
    "\n",
    "[topics](#topics)\n",
    "\n",
    "# First Section"
   ]
  },
  {
   "cell_type": "code",
   "execution_count": null,
   "id": "dab02849",
   "metadata": {},
   "outputs": [],
   "source": [
    "%%bash\n",
    "./run_haskell Queens2.hs\n"
   ]
  },
  {
   "cell_type": "code",
   "execution_count": null,
   "id": "827e6e02",
   "metadata": {},
   "outputs": [],
   "source": [
    "%%bash\n",
    "./run_haskell Permutations3.hs"
   ]
  }
 ],
 "metadata": {
  "kernelspec": {
   "display_name": "Python 3",
   "language": "python",
   "name": "python3"
  },
  "language_info": {
   "codemirror_mode": {
    "name": "ipython",
    "version": 3
   },
   "file_extension": ".py",
   "mimetype": "text/x-python",
   "name": "python",
   "nbconvert_exporter": "python",
   "pygments_lexer": "ipython3",
   "version": "3.12.1"
  }
 },
 "nbformat": 4,
 "nbformat_minor": 5
}
