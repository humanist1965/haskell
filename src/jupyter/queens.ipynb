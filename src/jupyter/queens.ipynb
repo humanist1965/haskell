{
 "cells": [
  {
   "cell_type": "markdown",
   "id": "bbdbb1f1",
   "metadata": {},
   "source": [
    "<link rel=\"stylesheet\" href=\"./styles.css\">\n",
    "\n",
    "# The Queens Chessboard Puzzle: A Programmer's Playground\n",
    "\n",
    "The classic **Queens Chessboard Puzzle** is a timeless challenge that has intrigued computer programmers for years. This problem not only tests logical thinking and problem-solving skills but also offers a fantastic opportunity to explore algorithmic design.\n",
    "\n",
    "In this interactive notebook, we'll dive into the puzzle’s complexities, exploring different approaches to solving it. Our programming language of choice will be **Haskell**, which offers unique features for efficient and elegant problem-solving.\n",
    "\n",
    "\n",
    "<link rel=\"stylesheet\" href=\"./styles.css\">\n",
    "<div class=\"page-spacer\"></div>\n",
    "\n",
    "## **Table of Contents**\n",
    "\n",
    "* [What is the Queens Chessboard Puzzle?](#what-is-the-queens-chessboard-puzzle)\n",
    "\n",
    "* [History of the Puzzle](#history-of-the-puzzle)\n",
    "\n",
    "* [How Complex is the Problem?](#how-complex-is-the-problem)\n",
    "    * [Board Size (N)](#board-size-n)\n",
    "    * [Solution Requirements](#solution-requirements)\n",
    "\n",
    "* [Data Structure Design](#data-structure-design)\n",
    "    * [Representing the Board](#representing-the-board)\n",
    "    * [Representing Queen Placement](#representing-queen-placement)\n",
    "\n",
    "* [Sledgehammer Approaches: Brute-Force Solutions](#sledgehammer-approaches-brute-force-solutions)\n",
    "    * [Pure Brute-Force](#pure-brute-force)\n",
    "    * [Brute-Force with Row/Column Uniqueness](#brute-force-with-rowcolumn-uniqueness)\n",
    "\n",
    "* [Optimized Backtracking](#optimized-backtracking)\n",
    "\n",
    "* [Iterative Search for a Single solution]()\n",
    "\n",
    "* [All Solutions vs. Unique Solutions](#all-solutions-vs-unique-solutions)\n",
    "    * [Symmetry and Group Theory](#symmetry-and-group-theory)\n",
    "\n",
    "* [Calculating Unique Solutions]()\n",
    "\n",
    "* [Optimized Backtracking - Using symmetry]()\n",
    "\n",
    "\n",
    "\n"
   ]
  },
  {
   "cell_type": "markdown",
   "id": "301a001d",
   "metadata": {},
   "source": [
    "\n",
    "<link rel=\"stylesheet\" href=\"./styles.css\">\n",
    "<div class=\"page-spacer\"></div>\n",
    "\n",
    "[toc](#table-of-contents)\n",
    "### What is the Queens Chessboard Puzzle?\n",
    "\n",
    "The N-Queens puzzle asks: how can you place N chess queens on an NxN chessboard so that no two queens threaten each other? In chess, a queen can attack any piece in the same row, column, or diagonal.\n",
    "\n",
    "<img src=\"./images/image.png\" width=500 />\n",
    "\n"
   ]
  },
  {
   "cell_type": "markdown",
   "id": "118e1769",
   "metadata": {},
   "source": [
    "<link rel=\"stylesheet\" href=\"./styles.css\">\n",
    "<div class=\"page-spacer\"></div>\n",
    "\n",
    "[toc](#table-of-contents)\n",
    "### History of the Puzzle\n",
    "\n",
    "The puzzle was first proposed in 1848 by chess player Max Bezzel. Mathematicians, including Carl Friedrich Gauss, have studied it. The extension to the NxN board was introduced by Franz Nauck in 1850.\n",
    "\n",
    "\n"
   ]
  },
  {
   "cell_type": "markdown",
   "id": "66e95e2e",
   "metadata": {},
   "source": [
    "\n",
    "<link rel=\"stylesheet\" href=\"./styles.css\">\n",
    "<div class=\"page-spacer\"></div>\n",
    "\n",
    "[toc](#table-of-contents)\n",
    "## How Complex is the Problem?\n",
    "\n",
    "The complexity of the N-Queens problem varies based on a few factors:\n",
    "\n",
    "* **Board Size (N):**\n",
    "    * The standard 8x8 board is a common starting point.\n",
    "    * For programmers, larger boards (9x9, 10x10, 11x11, ..., 27x27) increase the challenge significantly.\n",
    "    * The problem scales rapidly; finding all solutions for larger boards becomes computationally intensive.\n",
    "    * Currently, finding \\*all\\* solutions has been achieved up to the 27x27 board.\n",
    "    * Boards larger than 27x27 may require computational advancements like quantum computing to find all solutions.\n",
    "    * Finding a \\*single\\* solution is possible for much larger values of N (N = 1,000,000 and beyond).\n",
    "* **Solution Requirements:**\n",
    "    * **Finding all solutions:** This is the most complex task.\n",
    "    * **Finding all unique solutions:** This requires additional considerations to avoid counting symmetrical arrangements multiple times.\n",
    "    * **Finding a single solution:** This is the least complex, relatively speaking, and can be done for very large boards.\n",
    "\n",
    "\n",
    "### Consider the total combinations for the standard 8x8 Queens problem\n",
    "\n",
    "We need to determine the number of ways to place 8 indistinguishable queens on an 8x8 chessboard (64 squares) with no restrictions on their positions. This is given by the binomial coefficient \\( C(64, 8) \\), which calculates the number of ways to choose 8 squares out of 64.\n"
   ]
  },
  {
   "cell_type": "code",
   "execution_count": 19,
   "id": "37f40902",
   "metadata": {},
   "outputs": [
    {
     "name": "stdout",
     "output_type": "stream",
     "text": [
      "Running Haskell program: TempHs.hs \n",
      "Compilation successful! /workspaces/haskell/bin/..\n",
      "\n",
      "Number of ways to place 8 queens on an 8x8 board:\n",
      "4426165368\n"
     ]
    }
   ],
   "source": [
    "%%bash\n",
    "cat <<EOF > ../TempHs.hs\n",
    "\n",
    "    module TempHs(main) where\n",
    "    import Factorials (combinations_count)\n",
    "    main :: IO ()\n",
    "    main = do \n",
    "        putStrLn \"\"\n",
    "        putStrLn \"Number of ways to place 8 queens on an 8x8 board:\"\n",
    "        print $ combinations_count 64 8\n",
    "\n",
    "EOF\n",
    "\n",
    "./run_haskell TempHs.hs"
   ]
  },
  {
   "cell_type": "markdown",
   "id": "c5599135",
   "metadata": {},
   "source": [
    "\n",
    "<link rel=\"stylesheet\" href=\"./styles.css\">\n",
    "<div class=\"page-spacer\"></div>\n",
    "\n",
    "[toc](#table-of-contents)\n",
    "## Data Structure Design\n",
    "\n",
    "Efficiently representing the chessboard and queen placements is crucial. Here are common approaches:\n",
    "\n",
    "* **Representing the Board:**\n",
    "    * A 2D array (matrix) of size NxN can represent the board. Each cell can store information about whether it's empty or occupied by a queen. More memory-efficient representations are possible.\n",
    "* **Representing Queen Placement:**\n",
    "    * A 1D array of size N. The index represents the row, and the value represents the column where the queen is placed in that row. For example, `queens[0] = 3` means there's a queen in the first row and fourth column. This is often preferred for its efficiency in the N-Queens problem.\n",
    "    * A list of (row, column) tuples.\n",
    "\n",
    "\n"
   ]
  },
  {
   "cell_type": "markdown",
   "id": "f577b029",
   "metadata": {},
   "source": [
    "\n",
    "<link rel=\"stylesheet\" href=\"./styles.css\">\n",
    "<div class=\"page-spacer\"></div>\n",
    "\n",
    "[toc](#table-of-contents)\n",
    "### Sledgehammer Approaches: Brute-Force Solutions\n",
    "\n",
    "Brute-force methods explore all possible arrangements, which can be very inefficient.\n",
    "\n",
    "\n"
   ]
  },
  {
   "cell_type": "markdown",
   "id": "a4ac13c0",
   "metadata": {},
   "source": [
    "\n",
    "<link rel=\"stylesheet\" href=\"./styles.css\">\n",
    "<div class=\"page-spacer\"></div>\n",
    "\n",
    "[toc](#table-of-contents)\n",
    "* **Pure Brute-Force:**\n",
    "    * Generate every possible combination of N queen placements on the NxN board.\n",
    "    * Check each combination to see if any queens attack each other.\n",
    "    * Extremely inefficient, especially for larger N.\n",
    "\n",
    "\n",
    "\n",
    "\n"
   ]
  },
  {
   "cell_type": "markdown",
   "id": "16369412",
   "metadata": {},
   "source": [
    "\n",
    "<link rel=\"stylesheet\" href=\"./styles.css\">\n",
    "<div class=\"page-spacer\"></div>\n",
    "\n",
    "[toc](#table-of-contents)\n",
    "* **Brute-Force with Row/Column Uniqueness:**\n",
    "    * Recognize that each row and column can only contain one queen.\n",
    "    * Generate all permutations of column positions for each row.\n",
    "    * This is better than pure brute-force but still inefficient for larger N.\n",
    "\n",
    "\n",
    "\n"
   ]
  },
  {
   "cell_type": "markdown",
   "id": "bfe9c584",
   "metadata": {},
   "source": [
    "\n",
    "<link rel=\"stylesheet\" href=\"./styles.css\">\n",
    "<div class=\"page-spacer\"></div>\n",
    "\n",
    "[toc](#table-of-contents)\n",
    "### Optimized Backtracking\n",
    "\n",
    "Backtracking is a more efficient approach:\n",
    "\n",
    "* **Core Idea:** Systematically explore possible placements, and abandon a path (\"backtrack\") as soon as it's clear it cannot lead to a solution.\n",
    "* **Permutations Algorithm:** A recursive algorithm is typically used to generate permutations of column placements, combined with checks for diagonal attacks.\n",
    "* **Efficiency:** Backtracking avoids exploring many invalid configurations, making it much faster than brute-force.\n",
    "\n",
    "\n",
    "\n"
   ]
  },
  {
   "cell_type": "markdown",
   "id": "6375e901",
   "metadata": {},
   "source": [
    "<link rel=\"stylesheet\" href=\"./styles.css\">\n",
    "<div class=\"page-spacer\"></div>\n",
    "\n",
    "[toc](#table-of-contents)\n",
    "## Iterative Search for a Single solution"
   ]
  },
  {
   "cell_type": "markdown",
   "id": "b927d2ad",
   "metadata": {},
   "source": [
    "\n",
    "\n",
    "<link rel=\"stylesheet\" href=\"./styles.css\">\n",
    "<div class=\"page-spacer\"></div>\n",
    "\n",
    "[toc](#table-of-contents)\n",
    "### All Solutions vs. Unique Solutions\n",
    "\n",
    "* **All Solutions:** Finds every possible valid arrangement of queens.\n",
    "* **Unique Solutions:** Considers only solutions that are not symmetrical transformations of each other.\n",
    "* **Symmetry and Group Theory:**\n",
    "    * The dihedral group D4 describes the symmetries of a square (rotations and reflections).\n",
    "    * To find unique solutions, you can generate all solutions and then eliminate those that are symmetrical duplicates based on D4 transformations.\n"
   ]
  },
  {
   "cell_type": "markdown",
   "id": "c152c761",
   "metadata": {},
   "source": [
    "\n",
    "\n",
    "<link rel=\"stylesheet\" href=\"./styles.css\">\n",
    "<div class=\"page-spacer\"></div>\n",
    "\n",
    "[toc](#table-of-contents)\n",
    "## Calculating Unique Solutions"
   ]
  },
  {
   "cell_type": "markdown",
   "id": "fc59170c",
   "metadata": {},
   "source": [
    "<link rel=\"stylesheet\" href=\"./styles.css\">\n",
    "<div class=\"page-spacer\"></div>\n",
    "\n",
    "[toc](#table-of-contents)\n",
    "## Optimized Backtracking - Using symmetry"
   ]
  },
  {
   "cell_type": "markdown",
   "id": "f3278e96",
   "metadata": {},
   "source": [
    "<link rel=\"stylesheet\" href=\"./styles.css\">\n",
    "<div class=\"page-spacer\"></div>\n",
    "\n",
    "[topics](#topics)\n",
    "\n",
    "# First Section"
   ]
  },
  {
   "cell_type": "code",
   "execution_count": null,
   "id": "dab02849",
   "metadata": {},
   "outputs": [],
   "source": [
    "%%bash\n",
    "./run_haskell Queens2.hs\n"
   ]
  },
  {
   "cell_type": "code",
   "execution_count": null,
   "id": "827e6e02",
   "metadata": {},
   "outputs": [],
   "source": [
    "%%bash\n",
    "./run_haskell Permutations3.hs"
   ]
  }
 ],
 "metadata": {
  "kernelspec": {
   "display_name": "Python 3",
   "language": "python",
   "name": "python3"
  },
  "language_info": {
   "codemirror_mode": {
    "name": "ipython",
    "version": 3
   },
   "file_extension": ".py",
   "mimetype": "text/x-python",
   "name": "python",
   "nbconvert_exporter": "python",
   "pygments_lexer": "ipython3",
   "version": "3.12.1"
  }
 },
 "nbformat": 4,
 "nbformat_minor": 5
}
