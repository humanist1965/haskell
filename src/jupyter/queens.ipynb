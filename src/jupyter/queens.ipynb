{
 "cells": [
  {
   "cell_type": "markdown",
   "id": "bbdbb1f1",
   "metadata": {},
   "source": [
    "## The Queens Chessboard Puzzle: A Programmer's Playground\n",
    "\n",
    "The classic **Queens Chessboard Puzzle** is a timeless challenge that has intrigued computer programmers for years. This problem not only tests logical thinking and problem-solving skills but also offers a fantastic opportunity to explore algorithmic design.\n",
    "\n",
    "In this interactive notebook, we'll dive into the puzzle’s complexities, exploring different approaches to solving it. Our programming language of choice will be **Haskell**, which offers unique features for efficient and elegant problem-solving.\n",
    "\n"
   ]
  },
  {
   "cell_type": "markdown",
   "id": "f3278e96",
   "metadata": {},
   "source": [
    "<link rel=\"stylesheet\" href=\"./styles.css\">\n",
    "<div class=\"page-spacer\"></div>\n",
    "\n",
    "[topics](#topics)\n",
    "\n",
    "# First Section"
   ]
  },
  {
   "cell_type": "code",
   "execution_count": null,
   "id": "dab02849",
   "metadata": {},
   "outputs": [],
   "source": [
    "%%bash\n",
    "./run_haskell Queens2.hs\n"
   ]
  },
  {
   "cell_type": "code",
   "execution_count": null,
   "id": "827e6e02",
   "metadata": {},
   "outputs": [],
   "source": [
    "%%bash\n",
    "./run_haskell Permutations3.hs"
   ]
  }
 ],
 "metadata": {
  "kernelspec": {
   "display_name": "Python 3",
   "language": "python",
   "name": "python3"
  },
  "language_info": {
   "codemirror_mode": {
    "name": "ipython",
    "version": 3
   },
   "file_extension": ".py",
   "mimetype": "text/x-python",
   "name": "python",
   "nbconvert_exporter": "python",
   "pygments_lexer": "ipython3",
   "version": "3.12.1"
  }
 },
 "nbformat": 4,
 "nbformat_minor": 5
}
