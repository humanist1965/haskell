{
 "cells": [
  {
   "cell_type": "markdown",
   "id": "4a39e627",
   "metadata": {},
   "source": [
    "## Haskell Experiments"
   ]
  },
  {
   "cell_type": "code",
   "execution_count": null,
   "id": "61c46a58",
   "metadata": {},
   "outputs": [
    {
     "ename": "",
     "evalue": "",
     "output_type": "error",
     "traceback": [
      "\u001b[1;31mFailed to start the Kernel. \n",
      "\u001b[1;31mihaskell: \n",
      "\u001b[1;31mRan commands: \n",
      "\u001b[1;31mghc-pkg check\n",
      "\u001b[1;31mwhich ghc-pkg\n",
      "\u001b[1;31m\n",
      "\u001b[1;31mException: user error (shelly did not find ghc-pkg in the PATH: /vscode/bin/linux-x64/17baf841131aa23349f217ca7c570c76ee87b957/bin/remote-cli:/home/codespace/.local/bin:/home/codespace/.dotnet:/home/codespace/nvm/current/bin:/home/codespace/.php/current/bin:/home/codespace/.python/current/bin:/home/codespace/java/current/bin:/home/codespace/.ruby/current/bin:/home/codespace/.local/bin:/usr/local/python/current/bin:/usr/local/py-utils/bin:/usr/local/jupyter:/usr/local/oryx:/usr/local/go/bin:/go/bin:/usr/local/sdkman/bin:/usr/local/sdkman/candidates/java/current/bin:/usr/local/sdkman/candidates/gradle/current/bin:/usr/local/sdkman/candidates/maven/current/bin:/usr/local/sdkman/candidates/ant/current/bin:/usr/local/rvm/gems/default/bin:/usr/local/rvm/gems/default@global/bin:/usr/local/rvm/rubies/default/bin:/usr/local/share/rbenv/bin:/usr/local/php/current/bin:/opt/conda/bin:/usr/local/nvs:/usr/local/share/nvm/current/bin:/usr/local/hugo/bin:/usr/local/sbin:/usr/local/bin:/usr/sbin:/usr/bin:/sbin:/bin:/usr/share/dotnet:/home/codespace/.dotnet/tools:/usr/local/rvm/bin). \n",
      "\u001b[1;31mView Jupyter <a href='command:jupyter.viewOutput'>log</a> for further details."
     ]
    }
   ],
   "source": [
    "fac :: Integer -> Integer\n",
    "\n",
    "\n",
    "\n",
    "fac 0 = 1\n",
    "fac n = n * fac (n - 1) "
   ]
  }
 ],
 "metadata": {
  "kernelspec": {
   "display_name": "Haskell",
   "language": "haskell",
   "name": "haskell"
  },
  "language_info": {
   "name": "haskell"
  }
 },
 "nbformat": 4,
 "nbformat_minor": 5
}
